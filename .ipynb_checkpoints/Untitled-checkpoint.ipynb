{
 "cells": [
  {
   "cell_type": "markdown",
   "metadata": {},
   "source": [
    "# Ujian Tengah Semester (UTS) - Keamanan Jaringan Komputer\n",
    "### Pendahuluan:\n",
    "mahasiswa ditargetkan bisa mengetahui secara teori maupun praktis sistem yang diimplementasikan pada aplikasi teknologi informasi\n",
    "\n",
    "Aturan:\n",
    "- Beberapa soal sebagian merupakan soal capture the flag atau ctf (bisa dibaca di https://dev.to/molly_struve/learn-how-to-hack-capture-the-flag-for-beginners-744)\n",
    "- Setiap soal akan diberikan 'hints','clue' agar bisa menjawab, dan beberapa task, sudah disediakan tools untuk memecahkan masalah.\n",
    "- Dalam memecahkan permasalahan/soal, kita harus menggunakan tools yang berhubungan dengan soal tersebut, misalkan soal dengan file .pcap akan dapat dibuka dengan wireshark atau tcpdump.\n",
    "- Untuk format penjelasan jawaban terhadap soal disebut dengan write-up, setiap soal akan di jawab dengan write-up nya, beserta referensi website nya.\n",
    "\n",
    "SOAL:\n",
    "- Hash functions\n",
    "1. account.txt, hash functions,brute force (10points)\n",
    "```\n",
    "Note: untuk soal Hash function, adalah men-decode password yang tersedia pada soal, buatlah write-up anda dalam melakukan decode soal tersebut.\n",
    "```\n",
    "\n",
    "- HTTP webfiles/pcap files\n",
    "1. task_1_http_viewers.pcapng, hints: http stream (10points)\n",
    "2. task_2_http_headers.pcapng, hints: http stream headers (10 points)\n",
    "3. task_3_website_login.pcapng, hints: javascript, weblogin, hash function algorithms. (20points)\n",
    "\n",
    "- TLS/SSL\n",
    "1. tls/ssl_part1 -> task_ssl.pcap, hints: tlsv1, ssl, rsa (20points)\n",
    "2. tls/ssl_part2 -> e_corp_pki.pcapng, hints: tlsv1, ssl, modulus, exponent, rsa. (30points)"
   ]
  }
 ],
 "metadata": {
  "kernelspec": {
   "display_name": "Python 3",
   "language": "python",
   "name": "python3"
  },
  "language_info": {
   "codemirror_mode": {
    "name": "ipython",
    "version": 3
   },
   "file_extension": ".py",
   "mimetype": "text/x-python",
   "name": "python",
   "nbconvert_exporter": "python",
   "pygments_lexer": "ipython3",
   "version": "3.7.5rc1"
  }
 },
 "nbformat": 4,
 "nbformat_minor": 4
}
